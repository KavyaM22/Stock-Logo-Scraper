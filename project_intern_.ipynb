{
  "nbformat": 4,
  "nbformat_minor": 0,
  "metadata": {
    "colab": {
      "provenance": [],
      "include_colab_link": true
    },
    "kernelspec": {
      "name": "python3",
      "display_name": "Python 3"
    },
    "language_info": {
      "name": "python"
    }
  },
  "cells": [
    {
      "cell_type": "markdown",
      "metadata": {
        "id": "view-in-github",
        "colab_type": "text"
      },
      "source": [
        "<a href=\"https://colab.research.google.com/github/KavyaM22/Stock-Logo-Scraper/blob/main/project_intern_.ipynb\" target=\"_parent\"><img src=\"https://colab.research.google.com/assets/colab-badge.svg\" alt=\"Open In Colab\"/></a>"
      ]
    },
    {
      "cell_type": "code",
      "execution_count": null,
      "metadata": {
        "id": "fbXNsm_NUDSo"
      },
      "outputs": [],
      "source": [
        "import os\n",
        "import requests\n",
        "import pandas as pd\n",
        "from PIL import Image\n",
        "from io import BytesIO\n",
        "from bs4 import BeautifulSoup\n",
        "import logging\n",
        "import traceback\n",
        "import csv  # Import the csv module\n",
        "\n",
        "# Initialize logging\n",
        "logging.basicConfig(filename=\"logo_scraping.log\", level=logging.INFO,\n",
        "                    format=\"%(asctime)s:%(levelname)s:%(message)s\")\n",
        "\n",
        "# Create directories for logos\n",
        "logo_dir = \"logo\"\n",
        "os.makedirs(logo_dir, exist_ok=True)\n",
        "\n",
        "# Path for metadata CSV\n",
        "metadata_file = \"logo_metadata.csv\"\n",
        "\n",
        "# Function to validate company names\n",
        "def validate_data(symbol):\n",
        "    if isinstance(symbol, str) and len(symbol.strip()) > 0:\n",
        "        return symbol.strip().replace(\" \", \"+\").lower()  # Replace spaces with \"+\" for search queries\n",
        "    else:\n",
        "        logging.warning(f\"Invalid symbol or company name: {symbol}\")\n",
        "        return None\n",
        "\n",
        "# Function to fetch logo using Google Images search\n",
        "def fetch_logo(symbol):\n",
        "    search_url = f\"https://www.google.com/search?hl=en&tbm=isch&q={symbol}+logo\"\n",
        "    headers = {\n",
        "        'User-Agent': 'Mozilla/5.0 (Windows NT 10.0; Win64; x64) AppleWebKit/537.36 (KHTML, like Gecko) Chrome/58.0.3029.110 Safari/537.3'}\n",
        "    try:\n",
        "        response = requests.get(search_url, headers=headers, timeout=10)\n",
        "        soup = BeautifulSoup(response.text, 'html.parser')\n",
        "        img_tags = soup.find_all('img')\n",
        "\n",
        "        if img_tags:\n",
        "            img_url = img_tags[1]['src']  # Get the URL of the second image (usually the first is a placeholder)\n",
        "            img_response = requests.get(img_url)\n",
        "            image = Image.open(BytesIO(img_response.content))\n",
        "            return image\n",
        "        else:\n",
        "            logging.warning(f\"No images found for {symbol}\")\n",
        "            return None\n",
        "    except requests.RequestException as e:\n",
        "        logging.error(f\"Error fetching logo for {symbol}: {e}\")\n",
        "        logging.error(traceback.format_exc())\n",
        "        return None\n",
        "\n",
        "# Function to save the logo and metadata\n",
        "def save_logo(symbol, image):\n",
        "    ext = 'png'\n",
        "    file_name = f\"{symbol}.{ext}\"\n",
        "    file_path = os.path.join(logo_dir, file_name)\n",
        "\n",
        "    if not os.path.exists(file_path):\n",
        "        try:\n",
        "            image.save(file_path)\n",
        "            with open(metadata_file, 'a', newline='') as csvfile:\n",
        "                csvwriter = csv.writer(csvfile)\n",
        "                csvwriter.writerow([symbol, file_name])\n",
        "            logging.info(f\"Saved logo for {symbol} as {file_name}\")\n",
        "        except Exception as e:\n",
        "            logging.error(f\"Error saving logo for {symbol}: {e}\")\n",
        "            logging.error(traceback.format_exc())\n",
        "    else:\n",
        "        logging.info(f\"Logo for {symbol} already exists: {file_name}\")\n",
        "\n",
        "# Function to process the company list and fetch logos\n",
        "def process_companies(company_list):\n",
        "    # Create metadata CSV if not exists\n",
        "    if not os.path.exists(metadata_file):\n",
        "        with open(metadata_file, 'w', newline='') as csvfile:\n",
        "            csvwriter = csv.writer(csvfile)\n",
        "            csvwriter.writerow([\"Company/Symbol\", \"Logo File\"])\n",
        "\n",
        "    for symbol in company_list:\n",
        "        validated_symbol = validate_data(symbol)\n",
        "        if validated_symbol:\n",
        "            image = fetch_logo(validated_symbol)\n",
        "            if image:\n",
        "                save_logo(validated_symbol, image)\n",
        "            else:\n",
        "                logging.warning(f\"No logo found for {validated_symbol}\")\n",
        "\n",
        "# Load company/symbol data from CSV\n",
        "def load_company_data(file_path):\n",
        "    try:\n",
        "        df = pd.read_csv(file_path)\n",
        "        if 'SYMBOL' in df.columns:\n",
        "            return df['SYMBOL'].tolist()\n",
        "        elif 'NAME OF COMPANY' in df.columns:\n",
        "            return df['NAME OF COMPANY'].tolist()\n",
        "        else:\n",
        "            logging.error(\"No valid 'SYMBOL' or 'NAME OF COMPANY' column found in the CSV file.\")\n",
        "            return []\n",
        "    except Exception as e:\n",
        "        logging.error(f\"Error loading company data: {e}\")\n",
        "        logging.error(traceback.format_exc())\n",
        "        return []\n",
        "\n",
        "# Main execution\n",
        "if __name__ == \"__main__\":\n",
        "    # Load company list from CSV\n",
        "    company_list = load_company_data('/content/sample_data/nse_listed.csv')\n",
        "\n",
        "    # Fetch logos for the companies in the order they appear in the CSV\n",
        "    process_companies(company_list)\n"
      ]
    },
    {
      "cell_type": "code",
      "source": [
        "import shutil\n",
        "from google.colab import files\n",
        "\n",
        "# Path to the folder you want to zip and download\n",
        "folder_to_zip = \"logo\"\n",
        "output_zip = \"logo.zip\"\n",
        "\n",
        "# Zip the folder\n",
        "shutil.make_archive(output_zip.replace('.zip', ''), 'zip', folder_to_zip)\n",
        "\n",
        "# Download the zipped file\n",
        "files.download(output_zip)"
      ],
      "metadata": {
        "colab": {
          "base_uri": "https://localhost:8080/",
          "height": 34
        },
        "id": "J8poVDE0ZxL8",
        "outputId": "584bcc00-4729-4ebd-c74c-c91477a205d5"
      },
      "execution_count": null,
      "outputs": [
        {
          "output_type": "display_data",
          "data": {
            "text/plain": [
              "<IPython.core.display.Javascript object>"
            ],
            "application/javascript": [
              "\n",
              "    async function download(id, filename, size) {\n",
              "      if (!google.colab.kernel.accessAllowed) {\n",
              "        return;\n",
              "      }\n",
              "      const div = document.createElement('div');\n",
              "      const label = document.createElement('label');\n",
              "      label.textContent = `Downloading \"${filename}\": `;\n",
              "      div.appendChild(label);\n",
              "      const progress = document.createElement('progress');\n",
              "      progress.max = size;\n",
              "      div.appendChild(progress);\n",
              "      document.body.appendChild(div);\n",
              "\n",
              "      const buffers = [];\n",
              "      let downloaded = 0;\n",
              "\n",
              "      const channel = await google.colab.kernel.comms.open(id);\n",
              "      // Send a message to notify the kernel that we're ready.\n",
              "      channel.send({})\n",
              "\n",
              "      for await (const message of channel.messages) {\n",
              "        // Send a message to notify the kernel that we're ready.\n",
              "        channel.send({})\n",
              "        if (message.buffers) {\n",
              "          for (const buffer of message.buffers) {\n",
              "            buffers.push(buffer);\n",
              "            downloaded += buffer.byteLength;\n",
              "            progress.value = downloaded;\n",
              "          }\n",
              "        }\n",
              "      }\n",
              "      const blob = new Blob(buffers, {type: 'application/binary'});\n",
              "      const a = document.createElement('a');\n",
              "      a.href = window.URL.createObjectURL(blob);\n",
              "      a.download = filename;\n",
              "      div.appendChild(a);\n",
              "      a.click();\n",
              "      div.remove();\n",
              "    }\n",
              "  "
            ]
          },
          "metadata": {}
        },
        {
          "output_type": "display_data",
          "data": {
            "text/plain": [
              "<IPython.core.display.Javascript object>"
            ],
            "application/javascript": [
              "download(\"download_0d736508-c109-4cd1-8c23-a144d4598cd5\", \"logo.zip\", 12738193)"
            ]
          },
          "metadata": {}
        }
      ]
    }
  ]
}